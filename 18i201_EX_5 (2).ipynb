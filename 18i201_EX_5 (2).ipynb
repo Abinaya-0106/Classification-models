{
  "nbformat": 4,
  "nbformat_minor": 0,
  "metadata": {
    "colab": {
      "name": "18i201_EX 5.ipynb",
      "provenance": [],
      "collapsed_sections": []
    },
    "kernelspec": {
      "name": "python3",
      "display_name": "Python 3"
    },
    "language_info": {
      "name": "python"
    }
  },
  "cells": [
    {
      "cell_type": "code",
      "metadata": {
        "colab": {
          "resources": {
            "http://localhost:8080/nbextensions/google.colab/files.js": {
              "data": "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",
              "ok": true,
              "headers": [
                [
                  "content-type",
                  "application/javascript"
                ]
              ],
              "status": 200,
              "status_text": ""
            }
          },
          "base_uri": "https://localhost:8080/",
          "height": 73
        },
        "id": "kqz3G1NbPlgc",
        "outputId": "71a62456-2201-4f23-dbff-8d52fabbd498"
      },
      "source": [
        "from google.colab import files\n",
        "uploaded = files.upload()"
      ],
      "execution_count": null,
      "outputs": [
        {
          "output_type": "display_data",
          "data": {
            "text/html": [
              "\n",
              "     <input type=\"file\" id=\"files-bed1f4cc-fa2b-41ad-a514-8a6eefa4898c\" name=\"files[]\" multiple disabled\n",
              "        style=\"border:none\" />\n",
              "     <output id=\"result-bed1f4cc-fa2b-41ad-a514-8a6eefa4898c\">\n",
              "      Upload widget is only available when the cell has been executed in the\n",
              "      current browser session. Please rerun this cell to enable.\n",
              "      </output>\n",
              "      <script src=\"/nbextensions/google.colab/files.js\"></script> "
            ],
            "text/plain": [
              "<IPython.core.display.HTML object>"
            ]
          },
          "metadata": {}
        },
        {
          "output_type": "stream",
          "name": "stdout",
          "text": [
            "Saving jobclassinfo2.csv to jobclassinfo2.csv\n"
          ]
        }
      ]
    },
    {
      "cell_type": "code",
      "metadata": {
        "colab": {
          "base_uri": "https://localhost:8080/",
          "height": 530
        },
        "id": "a0wjrMJGST8C",
        "outputId": "ddec759d-d59e-4d9f-bf54-dc18b078574f"
      },
      "source": [
        "import pandas as pd\n",
        "import numpy as np\n",
        "data = pd.read_csv(\"jobclassinfo2.csv\")\n",
        "print(data)\n",
        "data.describe()"
      ],
      "execution_count": null,
      "outputs": [
        {
          "output_type": "stream",
          "name": "stdout",
          "text": [
            "    ID  JobFamily    JobFamilyDescription  ...  ContactLevel FinancialBudget    PG\n",
            "0    1          1  Accounting And Finance  ...             3               5  PG05\n",
            "1    2          1  Accounting And Finance  ...             7               7  PG06\n",
            "2    3          1  Accounting And Finance  ...             7              10  PG08\n",
            "3    4          1  Accounting And Finance  ...             8              11  PG10\n",
            "4    5          2  Administrative Support  ...             1               1  PG01\n",
            "..  ..        ...                     ...  ...           ...             ...   ...\n",
            "61  62         15         Systems Analyst  ...             1               1  PG03\n",
            "62  63         15         Systems Analyst  ...             3               4  PG05\n",
            "63  64         15         Systems Analyst  ...             7               5  PG06\n",
            "64  65         15         Systems Analyst  ...             7               7  PG08\n",
            "65  66         15         Systems Analyst  ...             8              11  PG10\n",
            "\n",
            "[66 rows x 14 columns]\n"
          ]
        },
        {
          "output_type": "execute_result",
          "data": {
            "text/html": [
              "<div>\n",
              "<style scoped>\n",
              "    .dataframe tbody tr th:only-of-type {\n",
              "        vertical-align: middle;\n",
              "    }\n",
              "\n",
              "    .dataframe tbody tr th {\n",
              "        vertical-align: top;\n",
              "    }\n",
              "\n",
              "    .dataframe thead th {\n",
              "        text-align: right;\n",
              "    }\n",
              "</style>\n",
              "<table border=\"1\" class=\"dataframe\">\n",
              "  <thead>\n",
              "    <tr style=\"text-align: right;\">\n",
              "      <th></th>\n",
              "      <th>ID</th>\n",
              "      <th>JobFamily</th>\n",
              "      <th>JobClass</th>\n",
              "      <th>PayGrade</th>\n",
              "      <th>EducationLevel</th>\n",
              "      <th>Experience</th>\n",
              "      <th>OrgImpact</th>\n",
              "      <th>ProblemSolving</th>\n",
              "      <th>Supervision</th>\n",
              "      <th>ContactLevel</th>\n",
              "      <th>FinancialBudget</th>\n",
              "    </tr>\n",
              "  </thead>\n",
              "  <tbody>\n",
              "    <tr>\n",
              "      <th>count</th>\n",
              "      <td>66.000000</td>\n",
              "      <td>66.000000</td>\n",
              "      <td>66.000000</td>\n",
              "      <td>66.000000</td>\n",
              "      <td>66.000000</td>\n",
              "      <td>66.000000</td>\n",
              "      <td>66.000000</td>\n",
              "      <td>66.000000</td>\n",
              "      <td>66.000000</td>\n",
              "      <td>66.000000</td>\n",
              "      <td>66.000000</td>\n",
              "    </tr>\n",
              "    <tr>\n",
              "      <th>mean</th>\n",
              "      <td>33.500000</td>\n",
              "      <td>7.606061</td>\n",
              "      <td>33.500000</td>\n",
              "      <td>5.696970</td>\n",
              "      <td>3.166667</td>\n",
              "      <td>1.757576</td>\n",
              "      <td>3.348485</td>\n",
              "      <td>3.606061</td>\n",
              "      <td>3.863636</td>\n",
              "      <td>4.757576</td>\n",
              "      <td>5.303030</td>\n",
              "    </tr>\n",
              "    <tr>\n",
              "      <th>std</th>\n",
              "      <td>19.196354</td>\n",
              "      <td>4.209436</td>\n",
              "      <td>19.196354</td>\n",
              "      <td>2.517445</td>\n",
              "      <td>1.525005</td>\n",
              "      <td>2.134411</td>\n",
              "      <td>1.767157</td>\n",
              "      <td>1.412894</td>\n",
              "      <td>2.104109</td>\n",
              "      <td>2.468638</td>\n",
              "      <td>3.525597</td>\n",
              "    </tr>\n",
              "    <tr>\n",
              "      <th>min</th>\n",
              "      <td>1.000000</td>\n",
              "      <td>1.000000</td>\n",
              "      <td>1.000000</td>\n",
              "      <td>1.000000</td>\n",
              "      <td>1.000000</td>\n",
              "      <td>0.000000</td>\n",
              "      <td>1.000000</td>\n",
              "      <td>1.000000</td>\n",
              "      <td>1.000000</td>\n",
              "      <td>1.000000</td>\n",
              "      <td>1.000000</td>\n",
              "    </tr>\n",
              "    <tr>\n",
              "      <th>25%</th>\n",
              "      <td>17.250000</td>\n",
              "      <td>4.000000</td>\n",
              "      <td>17.250000</td>\n",
              "      <td>4.000000</td>\n",
              "      <td>2.000000</td>\n",
              "      <td>0.000000</td>\n",
              "      <td>2.000000</td>\n",
              "      <td>3.000000</td>\n",
              "      <td>1.000000</td>\n",
              "      <td>3.000000</td>\n",
              "      <td>2.000000</td>\n",
              "    </tr>\n",
              "    <tr>\n",
              "      <th>50%</th>\n",
              "      <td>33.500000</td>\n",
              "      <td>7.000000</td>\n",
              "      <td>33.500000</td>\n",
              "      <td>5.000000</td>\n",
              "      <td>4.000000</td>\n",
              "      <td>1.000000</td>\n",
              "      <td>3.000000</td>\n",
              "      <td>4.000000</td>\n",
              "      <td>4.000000</td>\n",
              "      <td>6.000000</td>\n",
              "      <td>5.000000</td>\n",
              "    </tr>\n",
              "    <tr>\n",
              "      <th>75%</th>\n",
              "      <td>49.750000</td>\n",
              "      <td>11.000000</td>\n",
              "      <td>49.750000</td>\n",
              "      <td>8.000000</td>\n",
              "      <td>4.000000</td>\n",
              "      <td>2.750000</td>\n",
              "      <td>4.000000</td>\n",
              "      <td>5.000000</td>\n",
              "      <td>5.750000</td>\n",
              "      <td>7.000000</td>\n",
              "      <td>7.750000</td>\n",
              "    </tr>\n",
              "    <tr>\n",
              "      <th>max</th>\n",
              "      <td>66.000000</td>\n",
              "      <td>15.000000</td>\n",
              "      <td>66.000000</td>\n",
              "      <td>10.000000</td>\n",
              "      <td>6.000000</td>\n",
              "      <td>10.000000</td>\n",
              "      <td>6.000000</td>\n",
              "      <td>6.000000</td>\n",
              "      <td>7.000000</td>\n",
              "      <td>8.000000</td>\n",
              "      <td>11.000000</td>\n",
              "    </tr>\n",
              "  </tbody>\n",
              "</table>\n",
              "</div>"
            ],
            "text/plain": [
              "              ID  JobFamily  ...  ContactLevel  FinancialBudget\n",
              "count  66.000000  66.000000  ...     66.000000        66.000000\n",
              "mean   33.500000   7.606061  ...      4.757576         5.303030\n",
              "std    19.196354   4.209436  ...      2.468638         3.525597\n",
              "min     1.000000   1.000000  ...      1.000000         1.000000\n",
              "25%    17.250000   4.000000  ...      3.000000         2.000000\n",
              "50%    33.500000   7.000000  ...      6.000000         5.000000\n",
              "75%    49.750000  11.000000  ...      7.000000         7.750000\n",
              "max    66.000000  15.000000  ...      8.000000        11.000000\n",
              "\n",
              "[8 rows x 11 columns]"
            ]
          },
          "metadata": {},
          "execution_count": 2
        }
      ]
    },
    {
      "cell_type": "markdown",
      "metadata": {
        "id": "9j8PxTervH4e"
      },
      "source": [
        "**CHECK FOR MISSING VALUES**"
      ]
    },
    {
      "cell_type": "code",
      "metadata": {
        "colab": {
          "base_uri": "https://localhost:8080/"
        },
        "id": "_5RCWj_ySYyB",
        "outputId": "80913c24-02f4-4375-c628-ced73ed64a4b"
      },
      "source": [
        "data.isnull().sum()"
      ],
      "execution_count": null,
      "outputs": [
        {
          "output_type": "execute_result",
          "data": {
            "text/plain": [
              "ID                      0\n",
              "JobFamily               0\n",
              "JobFamilyDescription    0\n",
              "JobClass                0\n",
              "JobClassDescription     0\n",
              "PayGrade                0\n",
              "EducationLevel          0\n",
              "Experience              0\n",
              "OrgImpact               0\n",
              "ProblemSolving          0\n",
              "Supervision             0\n",
              "ContactLevel            0\n",
              "FinancialBudget         0\n",
              "PG                      0\n",
              "dtype: int64"
            ]
          },
          "metadata": {},
          "execution_count": 3
        }
      ]
    },
    {
      "cell_type": "markdown",
      "metadata": {
        "id": "VXDKN6w6vNKg"
      },
      "source": [
        "**CHECK THE DATATYPES**"
      ]
    },
    {
      "cell_type": "code",
      "metadata": {
        "colab": {
          "base_uri": "https://localhost:8080/"
        },
        "id": "lvhEmMzlS0jM",
        "outputId": "926ede2e-647e-435e-fdde-8cd1cea9c29c"
      },
      "source": [
        "data.dtypes"
      ],
      "execution_count": null,
      "outputs": [
        {
          "output_type": "execute_result",
          "data": {
            "text/plain": [
              "ID                       int64\n",
              "JobFamily                int64\n",
              "JobFamilyDescription    object\n",
              "JobClass                 int64\n",
              "JobClassDescription     object\n",
              "PayGrade                 int64\n",
              "EducationLevel           int64\n",
              "Experience               int64\n",
              "OrgImpact                int64\n",
              "ProblemSolving           int64\n",
              "Supervision              int64\n",
              "ContactLevel             int64\n",
              "FinancialBudget          int64\n",
              "PG                      object\n",
              "dtype: object"
            ]
          },
          "metadata": {},
          "execution_count": 4
        }
      ]
    },
    {
      "cell_type": "code",
      "metadata": {
        "colab": {
          "base_uri": "https://localhost:8080/"
        },
        "id": "YIazxKPIS29V",
        "outputId": "201a0eff-ffd5-49b2-89b5-cb4a861db33b"
      },
      "source": [
        "data.JobFamilyDescription.unique()"
      ],
      "execution_count": null,
      "outputs": [
        {
          "output_type": "execute_result",
          "data": {
            "text/plain": [
              "array(['Accounting And Finance', 'Administrative Support', 'Baker',\n",
              "       'Buildings And Facilities', 'Buyer', 'Cashier',\n",
              "       'Communications And Media', 'Corporate Research',\n",
              "       'Finance  And Accounting', 'Human Resources', 'Meat Cutter',\n",
              "       'Produce', 'Secretary', 'Stockkeeping', 'Systems Analyst'],\n",
              "      dtype=object)"
            ]
          },
          "metadata": {},
          "execution_count": 5
        }
      ]
    },
    {
      "cell_type": "markdown",
      "metadata": {
        "id": "JPZCZ2d2vUXl"
      },
      "source": [
        "**CHANGE ALL DATATYPES TO INT**"
      ]
    },
    {
      "cell_type": "code",
      "metadata": {
        "id": "yxiiLJ33S6A1"
      },
      "source": [
        "from sklearn.preprocessing import LabelEncoder"
      ],
      "execution_count": null,
      "outputs": []
    },
    {
      "cell_type": "code",
      "metadata": {
        "id": "_o1beg8PS76x"
      },
      "source": [
        "df = pd.DataFrame(data)"
      ],
      "execution_count": null,
      "outputs": []
    },
    {
      "cell_type": "code",
      "metadata": {
        "id": "oGwcECMbS-Cs"
      },
      "source": [
        "le=LabelEncoder()"
      ],
      "execution_count": null,
      "outputs": []
    },
    {
      "cell_type": "code",
      "metadata": {
        "colab": {
          "base_uri": "https://localhost:8080/"
        },
        "id": "b6spjAWsS_7F",
        "outputId": "afeb8af7-81d1-4cb5-dd3f-a743b3af3a9d"
      },
      "source": [
        "df['JobFamilyDescription']=le.fit_transform(data['JobFamilyDescription'])\n",
        "df['JobFamilyDescription']"
      ],
      "execution_count": null,
      "outputs": [
        {
          "output_type": "execute_result",
          "data": {
            "text/plain": [
              "0      0\n",
              "1      0\n",
              "2      0\n",
              "3      0\n",
              "4      1\n",
              "      ..\n",
              "61    14\n",
              "62    14\n",
              "63    14\n",
              "64    14\n",
              "65    14\n",
              "Name: JobFamilyDescription, Length: 66, dtype: int64"
            ]
          },
          "metadata": {},
          "execution_count": 9
        }
      ]
    },
    {
      "cell_type": "code",
      "metadata": {
        "colab": {
          "base_uri": "https://localhost:8080/"
        },
        "id": "jb69nHepTB57",
        "outputId": "168b35d4-ac4e-41f9-a63c-74d05a9ffd26"
      },
      "source": [
        "df['JobClassDescription']=le.fit_transform(data['JobClassDescription'])\n",
        "df['JobClassDescription']"
      ],
      "execution_count": null,
      "outputs": [
        {
          "output_type": "execute_result",
          "data": {
            "text/plain": [
              "0      0\n",
              "1      1\n",
              "2      2\n",
              "3      3\n",
              "4      4\n",
              "      ..\n",
              "61    61\n",
              "62    62\n",
              "63    63\n",
              "64    64\n",
              "65    65\n",
              "Name: JobClassDescription, Length: 66, dtype: int64"
            ]
          },
          "metadata": {},
          "execution_count": 10
        }
      ]
    },
    {
      "cell_type": "code",
      "metadata": {
        "colab": {
          "base_uri": "https://localhost:8080/",
          "height": 203
        },
        "id": "8sO1SnbUTE40",
        "outputId": "91bfacb4-057e-4994-da8d-9b8372df606a"
      },
      "source": [
        "df['PG']=data.PG.map({'PG01':0,'PG02':0,'PG03':0,'PG04':0,'PG05':0,'PG06':1,'PG07':1,'PG08':1,'PG09':1,'PG10':1})\n",
        "df.head()"
      ],
      "execution_count": null,
      "outputs": [
        {
          "output_type": "execute_result",
          "data": {
            "text/html": [
              "<div>\n",
              "<style scoped>\n",
              "    .dataframe tbody tr th:only-of-type {\n",
              "        vertical-align: middle;\n",
              "    }\n",
              "\n",
              "    .dataframe tbody tr th {\n",
              "        vertical-align: top;\n",
              "    }\n",
              "\n",
              "    .dataframe thead th {\n",
              "        text-align: right;\n",
              "    }\n",
              "</style>\n",
              "<table border=\"1\" class=\"dataframe\">\n",
              "  <thead>\n",
              "    <tr style=\"text-align: right;\">\n",
              "      <th></th>\n",
              "      <th>ID</th>\n",
              "      <th>JobFamily</th>\n",
              "      <th>JobFamilyDescription</th>\n",
              "      <th>JobClass</th>\n",
              "      <th>JobClassDescription</th>\n",
              "      <th>PayGrade</th>\n",
              "      <th>EducationLevel</th>\n",
              "      <th>Experience</th>\n",
              "      <th>OrgImpact</th>\n",
              "      <th>ProblemSolving</th>\n",
              "      <th>Supervision</th>\n",
              "      <th>ContactLevel</th>\n",
              "      <th>FinancialBudget</th>\n",
              "      <th>PG</th>\n",
              "    </tr>\n",
              "  </thead>\n",
              "  <tbody>\n",
              "    <tr>\n",
              "      <th>0</th>\n",
              "      <td>1</td>\n",
              "      <td>1</td>\n",
              "      <td>0</td>\n",
              "      <td>1</td>\n",
              "      <td>0</td>\n",
              "      <td>5</td>\n",
              "      <td>3</td>\n",
              "      <td>1</td>\n",
              "      <td>3</td>\n",
              "      <td>3</td>\n",
              "      <td>4</td>\n",
              "      <td>3</td>\n",
              "      <td>5</td>\n",
              "      <td>0</td>\n",
              "    </tr>\n",
              "    <tr>\n",
              "      <th>1</th>\n",
              "      <td>2</td>\n",
              "      <td>1</td>\n",
              "      <td>0</td>\n",
              "      <td>2</td>\n",
              "      <td>1</td>\n",
              "      <td>6</td>\n",
              "      <td>4</td>\n",
              "      <td>1</td>\n",
              "      <td>5</td>\n",
              "      <td>4</td>\n",
              "      <td>5</td>\n",
              "      <td>7</td>\n",
              "      <td>7</td>\n",
              "      <td>1</td>\n",
              "    </tr>\n",
              "    <tr>\n",
              "      <th>2</th>\n",
              "      <td>3</td>\n",
              "      <td>1</td>\n",
              "      <td>0</td>\n",
              "      <td>3</td>\n",
              "      <td>2</td>\n",
              "      <td>8</td>\n",
              "      <td>4</td>\n",
              "      <td>2</td>\n",
              "      <td>6</td>\n",
              "      <td>5</td>\n",
              "      <td>6</td>\n",
              "      <td>7</td>\n",
              "      <td>10</td>\n",
              "      <td>1</td>\n",
              "    </tr>\n",
              "    <tr>\n",
              "      <th>3</th>\n",
              "      <td>4</td>\n",
              "      <td>1</td>\n",
              "      <td>0</td>\n",
              "      <td>4</td>\n",
              "      <td>3</td>\n",
              "      <td>10</td>\n",
              "      <td>5</td>\n",
              "      <td>5</td>\n",
              "      <td>6</td>\n",
              "      <td>6</td>\n",
              "      <td>7</td>\n",
              "      <td>8</td>\n",
              "      <td>11</td>\n",
              "      <td>1</td>\n",
              "    </tr>\n",
              "    <tr>\n",
              "      <th>4</th>\n",
              "      <td>5</td>\n",
              "      <td>2</td>\n",
              "      <td>1</td>\n",
              "      <td>5</td>\n",
              "      <td>4</td>\n",
              "      <td>1</td>\n",
              "      <td>1</td>\n",
              "      <td>0</td>\n",
              "      <td>1</td>\n",
              "      <td>1</td>\n",
              "      <td>1</td>\n",
              "      <td>1</td>\n",
              "      <td>1</td>\n",
              "      <td>0</td>\n",
              "    </tr>\n",
              "  </tbody>\n",
              "</table>\n",
              "</div>"
            ],
            "text/plain": [
              "   ID  JobFamily  JobFamilyDescription  ...  ContactLevel  FinancialBudget  PG\n",
              "0   1          1                     0  ...             3                5   0\n",
              "1   2          1                     0  ...             7                7   1\n",
              "2   3          1                     0  ...             7               10   1\n",
              "3   4          1                     0  ...             8               11   1\n",
              "4   5          2                     1  ...             1                1   0\n",
              "\n",
              "[5 rows x 14 columns]"
            ]
          },
          "metadata": {},
          "execution_count": 11
        }
      ]
    },
    {
      "cell_type": "markdown",
      "metadata": {
        "id": "gLEuqoexvY_j"
      },
      "source": [
        "**DATATYPE AFTER CONVERSION**"
      ]
    },
    {
      "cell_type": "code",
      "metadata": {
        "colab": {
          "base_uri": "https://localhost:8080/"
        },
        "id": "oKPAN1HqTHJK",
        "outputId": "483bf42c-8d9c-460e-f50c-1d7dd5dbdde9"
      },
      "source": [
        "data.dtypes"
      ],
      "execution_count": null,
      "outputs": [
        {
          "output_type": "execute_result",
          "data": {
            "text/plain": [
              "ID                      int64\n",
              "JobFamily               int64\n",
              "JobFamilyDescription    int64\n",
              "JobClass                int64\n",
              "JobClassDescription     int64\n",
              "PayGrade                int64\n",
              "EducationLevel          int64\n",
              "Experience              int64\n",
              "OrgImpact               int64\n",
              "ProblemSolving          int64\n",
              "Supervision             int64\n",
              "ContactLevel            int64\n",
              "FinancialBudget         int64\n",
              "PG                      int64\n",
              "dtype: object"
            ]
          },
          "metadata": {},
          "execution_count": 12
        }
      ]
    },
    {
      "cell_type": "code",
      "metadata": {
        "colab": {
          "base_uri": "https://localhost:8080/",
          "height": 203
        },
        "id": "iJeXDWM6TKLs",
        "outputId": "11e81dc1-f33c-4a81-c3f0-b1dc0fb2df7e"
      },
      "source": [
        "data.tail()"
      ],
      "execution_count": null,
      "outputs": [
        {
          "output_type": "execute_result",
          "data": {
            "text/html": [
              "<div>\n",
              "<style scoped>\n",
              "    .dataframe tbody tr th:only-of-type {\n",
              "        vertical-align: middle;\n",
              "    }\n",
              "\n",
              "    .dataframe tbody tr th {\n",
              "        vertical-align: top;\n",
              "    }\n",
              "\n",
              "    .dataframe thead th {\n",
              "        text-align: right;\n",
              "    }\n",
              "</style>\n",
              "<table border=\"1\" class=\"dataframe\">\n",
              "  <thead>\n",
              "    <tr style=\"text-align: right;\">\n",
              "      <th></th>\n",
              "      <th>ID</th>\n",
              "      <th>JobFamily</th>\n",
              "      <th>JobFamilyDescription</th>\n",
              "      <th>JobClass</th>\n",
              "      <th>JobClassDescription</th>\n",
              "      <th>PayGrade</th>\n",
              "      <th>EducationLevel</th>\n",
              "      <th>Experience</th>\n",
              "      <th>OrgImpact</th>\n",
              "      <th>ProblemSolving</th>\n",
              "      <th>Supervision</th>\n",
              "      <th>ContactLevel</th>\n",
              "      <th>FinancialBudget</th>\n",
              "      <th>PG</th>\n",
              "    </tr>\n",
              "  </thead>\n",
              "  <tbody>\n",
              "    <tr>\n",
              "      <th>61</th>\n",
              "      <td>62</td>\n",
              "      <td>15</td>\n",
              "      <td>14</td>\n",
              "      <td>62</td>\n",
              "      <td>61</td>\n",
              "      <td>3</td>\n",
              "      <td>1</td>\n",
              "      <td>1</td>\n",
              "      <td>1</td>\n",
              "      <td>2</td>\n",
              "      <td>1</td>\n",
              "      <td>1</td>\n",
              "      <td>1</td>\n",
              "      <td>0</td>\n",
              "    </tr>\n",
              "    <tr>\n",
              "      <th>62</th>\n",
              "      <td>63</td>\n",
              "      <td>15</td>\n",
              "      <td>14</td>\n",
              "      <td>63</td>\n",
              "      <td>62</td>\n",
              "      <td>5</td>\n",
              "      <td>4</td>\n",
              "      <td>1</td>\n",
              "      <td>3</td>\n",
              "      <td>3</td>\n",
              "      <td>4</td>\n",
              "      <td>3</td>\n",
              "      <td>4</td>\n",
              "      <td>0</td>\n",
              "    </tr>\n",
              "    <tr>\n",
              "      <th>63</th>\n",
              "      <td>64</td>\n",
              "      <td>15</td>\n",
              "      <td>14</td>\n",
              "      <td>64</td>\n",
              "      <td>63</td>\n",
              "      <td>6</td>\n",
              "      <td>5</td>\n",
              "      <td>2</td>\n",
              "      <td>4</td>\n",
              "      <td>4</td>\n",
              "      <td>5</td>\n",
              "      <td>7</td>\n",
              "      <td>5</td>\n",
              "      <td>1</td>\n",
              "    </tr>\n",
              "    <tr>\n",
              "      <th>64</th>\n",
              "      <td>65</td>\n",
              "      <td>15</td>\n",
              "      <td>14</td>\n",
              "      <td>65</td>\n",
              "      <td>64</td>\n",
              "      <td>8</td>\n",
              "      <td>5</td>\n",
              "      <td>5</td>\n",
              "      <td>6</td>\n",
              "      <td>5</td>\n",
              "      <td>6</td>\n",
              "      <td>7</td>\n",
              "      <td>7</td>\n",
              "      <td>1</td>\n",
              "    </tr>\n",
              "    <tr>\n",
              "      <th>65</th>\n",
              "      <td>66</td>\n",
              "      <td>15</td>\n",
              "      <td>14</td>\n",
              "      <td>66</td>\n",
              "      <td>65</td>\n",
              "      <td>10</td>\n",
              "      <td>5</td>\n",
              "      <td>5</td>\n",
              "      <td>6</td>\n",
              "      <td>6</td>\n",
              "      <td>7</td>\n",
              "      <td>8</td>\n",
              "      <td>11</td>\n",
              "      <td>1</td>\n",
              "    </tr>\n",
              "  </tbody>\n",
              "</table>\n",
              "</div>"
            ],
            "text/plain": [
              "    ID  JobFamily  JobFamilyDescription  ...  ContactLevel  FinancialBudget  PG\n",
              "61  62         15                    14  ...             1                1   0\n",
              "62  63         15                    14  ...             3                4   0\n",
              "63  64         15                    14  ...             7                5   1\n",
              "64  65         15                    14  ...             7                7   1\n",
              "65  66         15                    14  ...             8               11   1\n",
              "\n",
              "[5 rows x 14 columns]"
            ]
          },
          "metadata": {},
          "execution_count": 13
        }
      ]
    },
    {
      "cell_type": "code",
      "metadata": {
        "colab": {
          "base_uri": "https://localhost:8080/",
          "height": 315
        },
        "id": "hIn4rYK5TMad",
        "outputId": "f19b59f2-47f9-496c-f4c2-c94e36f4725d"
      },
      "source": [
        "data.describe()"
      ],
      "execution_count": null,
      "outputs": [
        {
          "output_type": "execute_result",
          "data": {
            "text/html": [
              "<div>\n",
              "<style scoped>\n",
              "    .dataframe tbody tr th:only-of-type {\n",
              "        vertical-align: middle;\n",
              "    }\n",
              "\n",
              "    .dataframe tbody tr th {\n",
              "        vertical-align: top;\n",
              "    }\n",
              "\n",
              "    .dataframe thead th {\n",
              "        text-align: right;\n",
              "    }\n",
              "</style>\n",
              "<table border=\"1\" class=\"dataframe\">\n",
              "  <thead>\n",
              "    <tr style=\"text-align: right;\">\n",
              "      <th></th>\n",
              "      <th>ID</th>\n",
              "      <th>JobFamily</th>\n",
              "      <th>JobFamilyDescription</th>\n",
              "      <th>JobClass</th>\n",
              "      <th>JobClassDescription</th>\n",
              "      <th>PayGrade</th>\n",
              "      <th>EducationLevel</th>\n",
              "      <th>Experience</th>\n",
              "      <th>OrgImpact</th>\n",
              "      <th>ProblemSolving</th>\n",
              "      <th>Supervision</th>\n",
              "      <th>ContactLevel</th>\n",
              "      <th>FinancialBudget</th>\n",
              "      <th>PG</th>\n",
              "    </tr>\n",
              "  </thead>\n",
              "  <tbody>\n",
              "    <tr>\n",
              "      <th>count</th>\n",
              "      <td>66.000000</td>\n",
              "      <td>66.000000</td>\n",
              "      <td>66.000000</td>\n",
              "      <td>66.000000</td>\n",
              "      <td>66.000000</td>\n",
              "      <td>66.000000</td>\n",
              "      <td>66.000000</td>\n",
              "      <td>66.000000</td>\n",
              "      <td>66.000000</td>\n",
              "      <td>66.000000</td>\n",
              "      <td>66.000000</td>\n",
              "      <td>66.000000</td>\n",
              "      <td>66.000000</td>\n",
              "      <td>66.000000</td>\n",
              "    </tr>\n",
              "    <tr>\n",
              "      <th>mean</th>\n",
              "      <td>33.500000</td>\n",
              "      <td>7.606061</td>\n",
              "      <td>6.606061</td>\n",
              "      <td>33.500000</td>\n",
              "      <td>32.500000</td>\n",
              "      <td>5.696970</td>\n",
              "      <td>3.166667</td>\n",
              "      <td>1.757576</td>\n",
              "      <td>3.348485</td>\n",
              "      <td>3.606061</td>\n",
              "      <td>3.863636</td>\n",
              "      <td>4.757576</td>\n",
              "      <td>5.303030</td>\n",
              "      <td>0.454545</td>\n",
              "    </tr>\n",
              "    <tr>\n",
              "      <th>std</th>\n",
              "      <td>19.196354</td>\n",
              "      <td>4.209436</td>\n",
              "      <td>4.209436</td>\n",
              "      <td>19.196354</td>\n",
              "      <td>19.196354</td>\n",
              "      <td>2.517445</td>\n",
              "      <td>1.525005</td>\n",
              "      <td>2.134411</td>\n",
              "      <td>1.767157</td>\n",
              "      <td>1.412894</td>\n",
              "      <td>2.104109</td>\n",
              "      <td>2.468638</td>\n",
              "      <td>3.525597</td>\n",
              "      <td>0.501745</td>\n",
              "    </tr>\n",
              "    <tr>\n",
              "      <th>min</th>\n",
              "      <td>1.000000</td>\n",
              "      <td>1.000000</td>\n",
              "      <td>0.000000</td>\n",
              "      <td>1.000000</td>\n",
              "      <td>0.000000</td>\n",
              "      <td>1.000000</td>\n",
              "      <td>1.000000</td>\n",
              "      <td>0.000000</td>\n",
              "      <td>1.000000</td>\n",
              "      <td>1.000000</td>\n",
              "      <td>1.000000</td>\n",
              "      <td>1.000000</td>\n",
              "      <td>1.000000</td>\n",
              "      <td>0.000000</td>\n",
              "    </tr>\n",
              "    <tr>\n",
              "      <th>25%</th>\n",
              "      <td>17.250000</td>\n",
              "      <td>4.000000</td>\n",
              "      <td>3.000000</td>\n",
              "      <td>17.250000</td>\n",
              "      <td>16.250000</td>\n",
              "      <td>4.000000</td>\n",
              "      <td>2.000000</td>\n",
              "      <td>0.000000</td>\n",
              "      <td>2.000000</td>\n",
              "      <td>3.000000</td>\n",
              "      <td>1.000000</td>\n",
              "      <td>3.000000</td>\n",
              "      <td>2.000000</td>\n",
              "      <td>0.000000</td>\n",
              "    </tr>\n",
              "    <tr>\n",
              "      <th>50%</th>\n",
              "      <td>33.500000</td>\n",
              "      <td>7.000000</td>\n",
              "      <td>6.000000</td>\n",
              "      <td>33.500000</td>\n",
              "      <td>32.500000</td>\n",
              "      <td>5.000000</td>\n",
              "      <td>4.000000</td>\n",
              "      <td>1.000000</td>\n",
              "      <td>3.000000</td>\n",
              "      <td>4.000000</td>\n",
              "      <td>4.000000</td>\n",
              "      <td>6.000000</td>\n",
              "      <td>5.000000</td>\n",
              "      <td>0.000000</td>\n",
              "    </tr>\n",
              "    <tr>\n",
              "      <th>75%</th>\n",
              "      <td>49.750000</td>\n",
              "      <td>11.000000</td>\n",
              "      <td>10.000000</td>\n",
              "      <td>49.750000</td>\n",
              "      <td>48.750000</td>\n",
              "      <td>8.000000</td>\n",
              "      <td>4.000000</td>\n",
              "      <td>2.750000</td>\n",
              "      <td>4.000000</td>\n",
              "      <td>5.000000</td>\n",
              "      <td>5.750000</td>\n",
              "      <td>7.000000</td>\n",
              "      <td>7.750000</td>\n",
              "      <td>1.000000</td>\n",
              "    </tr>\n",
              "    <tr>\n",
              "      <th>max</th>\n",
              "      <td>66.000000</td>\n",
              "      <td>15.000000</td>\n",
              "      <td>14.000000</td>\n",
              "      <td>66.000000</td>\n",
              "      <td>65.000000</td>\n",
              "      <td>10.000000</td>\n",
              "      <td>6.000000</td>\n",
              "      <td>10.000000</td>\n",
              "      <td>6.000000</td>\n",
              "      <td>6.000000</td>\n",
              "      <td>7.000000</td>\n",
              "      <td>8.000000</td>\n",
              "      <td>11.000000</td>\n",
              "      <td>1.000000</td>\n",
              "    </tr>\n",
              "  </tbody>\n",
              "</table>\n",
              "</div>"
            ],
            "text/plain": [
              "              ID  JobFamily  ...  FinancialBudget         PG\n",
              "count  66.000000  66.000000  ...        66.000000  66.000000\n",
              "mean   33.500000   7.606061  ...         5.303030   0.454545\n",
              "std    19.196354   4.209436  ...         3.525597   0.501745\n",
              "min     1.000000   1.000000  ...         1.000000   0.000000\n",
              "25%    17.250000   4.000000  ...         2.000000   0.000000\n",
              "50%    33.500000   7.000000  ...         5.000000   0.000000\n",
              "75%    49.750000  11.000000  ...         7.750000   1.000000\n",
              "max    66.000000  15.000000  ...        11.000000   1.000000\n",
              "\n",
              "[8 rows x 14 columns]"
            ]
          },
          "metadata": {},
          "execution_count": 14
        }
      ]
    },
    {
      "cell_type": "code",
      "metadata": {
        "id": "SrzFwmSgZ2ld"
      },
      "source": [
        "del df['PayGrade']"
      ],
      "execution_count": null,
      "outputs": []
    },
    {
      "cell_type": "code",
      "metadata": {
        "colab": {
          "base_uri": "https://localhost:8080/",
          "height": 203
        },
        "id": "indB3O6tbWRB",
        "outputId": "758a5b5e-c1e5-4a1f-f575-5782daa339c9"
      },
      "source": [
        "data.head()"
      ],
      "execution_count": null,
      "outputs": [
        {
          "output_type": "execute_result",
          "data": {
            "text/html": [
              "<div>\n",
              "<style scoped>\n",
              "    .dataframe tbody tr th:only-of-type {\n",
              "        vertical-align: middle;\n",
              "    }\n",
              "\n",
              "    .dataframe tbody tr th {\n",
              "        vertical-align: top;\n",
              "    }\n",
              "\n",
              "    .dataframe thead th {\n",
              "        text-align: right;\n",
              "    }\n",
              "</style>\n",
              "<table border=\"1\" class=\"dataframe\">\n",
              "  <thead>\n",
              "    <tr style=\"text-align: right;\">\n",
              "      <th></th>\n",
              "      <th>ID</th>\n",
              "      <th>JobFamily</th>\n",
              "      <th>JobFamilyDescription</th>\n",
              "      <th>JobClass</th>\n",
              "      <th>JobClassDescription</th>\n",
              "      <th>PayGrade</th>\n",
              "      <th>EducationLevel</th>\n",
              "      <th>Experience</th>\n",
              "      <th>OrgImpact</th>\n",
              "      <th>ProblemSolving</th>\n",
              "      <th>Supervision</th>\n",
              "      <th>ContactLevel</th>\n",
              "      <th>FinancialBudget</th>\n",
              "      <th>PG</th>\n",
              "    </tr>\n",
              "  </thead>\n",
              "  <tbody>\n",
              "    <tr>\n",
              "      <th>0</th>\n",
              "      <td>1</td>\n",
              "      <td>1</td>\n",
              "      <td>0</td>\n",
              "      <td>1</td>\n",
              "      <td>0</td>\n",
              "      <td>5</td>\n",
              "      <td>3</td>\n",
              "      <td>1</td>\n",
              "      <td>3</td>\n",
              "      <td>3</td>\n",
              "      <td>4</td>\n",
              "      <td>3</td>\n",
              "      <td>5</td>\n",
              "      <td>0</td>\n",
              "    </tr>\n",
              "    <tr>\n",
              "      <th>1</th>\n",
              "      <td>2</td>\n",
              "      <td>1</td>\n",
              "      <td>0</td>\n",
              "      <td>2</td>\n",
              "      <td>1</td>\n",
              "      <td>6</td>\n",
              "      <td>4</td>\n",
              "      <td>1</td>\n",
              "      <td>5</td>\n",
              "      <td>4</td>\n",
              "      <td>5</td>\n",
              "      <td>7</td>\n",
              "      <td>7</td>\n",
              "      <td>1</td>\n",
              "    </tr>\n",
              "    <tr>\n",
              "      <th>2</th>\n",
              "      <td>3</td>\n",
              "      <td>1</td>\n",
              "      <td>0</td>\n",
              "      <td>3</td>\n",
              "      <td>2</td>\n",
              "      <td>8</td>\n",
              "      <td>4</td>\n",
              "      <td>2</td>\n",
              "      <td>6</td>\n",
              "      <td>5</td>\n",
              "      <td>6</td>\n",
              "      <td>7</td>\n",
              "      <td>10</td>\n",
              "      <td>1</td>\n",
              "    </tr>\n",
              "    <tr>\n",
              "      <th>3</th>\n",
              "      <td>4</td>\n",
              "      <td>1</td>\n",
              "      <td>0</td>\n",
              "      <td>4</td>\n",
              "      <td>3</td>\n",
              "      <td>10</td>\n",
              "      <td>5</td>\n",
              "      <td>5</td>\n",
              "      <td>6</td>\n",
              "      <td>6</td>\n",
              "      <td>7</td>\n",
              "      <td>8</td>\n",
              "      <td>11</td>\n",
              "      <td>1</td>\n",
              "    </tr>\n",
              "    <tr>\n",
              "      <th>4</th>\n",
              "      <td>5</td>\n",
              "      <td>2</td>\n",
              "      <td>1</td>\n",
              "      <td>5</td>\n",
              "      <td>4</td>\n",
              "      <td>1</td>\n",
              "      <td>1</td>\n",
              "      <td>0</td>\n",
              "      <td>1</td>\n",
              "      <td>1</td>\n",
              "      <td>1</td>\n",
              "      <td>1</td>\n",
              "      <td>1</td>\n",
              "      <td>0</td>\n",
              "    </tr>\n",
              "  </tbody>\n",
              "</table>\n",
              "</div>"
            ],
            "text/plain": [
              "   ID  JobFamily  JobFamilyDescription  ...  ContactLevel  FinancialBudget  PG\n",
              "0   1          1                     0  ...             3                5   0\n",
              "1   2          1                     0  ...             7                7   1\n",
              "2   3          1                     0  ...             7               10   1\n",
              "3   4          1                     0  ...             8               11   1\n",
              "4   5          2                     1  ...             1                1   0\n",
              "\n",
              "[5 rows x 14 columns]"
            ]
          },
          "metadata": {},
          "execution_count": 16
        }
      ]
    },
    {
      "cell_type": "code",
      "metadata": {
        "id": "h2W27mPPT34m"
      },
      "source": [
        "from google.colab import files\n",
        "import pandas as pd"
      ],
      "execution_count": null,
      "outputs": []
    },
    {
      "cell_type": "code",
      "metadata": {
        "id": "ZJhFYDvST6f0"
      },
      "source": [
        ""
      ],
      "execution_count": null,
      "outputs": []
    },
    {
      "cell_type": "markdown",
      "metadata": {
        "id": "peCJ61MavdpU"
      },
      "source": [
        "**SPLITTING INTO FEATURE AND RESPONSE VECTOR**"
      ]
    },
    {
      "cell_type": "code",
      "metadata": {
        "colab": {
          "base_uri": "https://localhost:8080/"
        },
        "id": "S5GfwZ_CTPRJ",
        "outputId": "d18a44a7-d58c-4fd9-cdc8-ffb1f1233003"
      },
      "source": [
        "print(\"Shape:\", data.shape)\n",
        "print(\"\\nFeatures:\", data.columns)\n",
        "  \n",
        "# storing the feature matrix (X) and response vector (y)\n",
        "X = data[data.columns[:-1]]\n",
        "y = data[data.columns[-1]]\n",
        "  \n",
        "# printing first 5 rows of feature matrix\n",
        "print(\"\\nFeature matrix:\\n\", X.head())  \n",
        "# printing first 5 values of response vector\n",
        "print(\"\\nResponse vector:\\n\", y.head())"
      ],
      "execution_count": null,
      "outputs": [
        {
          "output_type": "stream",
          "name": "stdout",
          "text": [
            "Shape: (66, 14)\n",
            "\n",
            "Features: Index(['ID', 'JobFamily', 'JobFamilyDescription', 'JobClass',\n",
            "       'JobClassDescription', 'PayGrade', 'EducationLevel', 'Experience',\n",
            "       'OrgImpact', 'ProblemSolving', 'Supervision', 'ContactLevel',\n",
            "       'FinancialBudget', 'PG'],\n",
            "      dtype='object')\n",
            "\n",
            "Feature matrix:\n",
            "    ID  JobFamily  ...  ContactLevel  FinancialBudget\n",
            "0   1          1  ...             3                5\n",
            "1   2          1  ...             7                7\n",
            "2   3          1  ...             7               10\n",
            "3   4          1  ...             8               11\n",
            "4   5          2  ...             1                1\n",
            "\n",
            "[5 rows x 13 columns]\n",
            "\n",
            "Response vector:\n",
            " 0    0\n",
            "1    1\n",
            "2    1\n",
            "3    1\n",
            "4    0\n",
            "Name: PG, dtype: int64\n"
          ]
        }
      ]
    },
    {
      "cell_type": "code",
      "metadata": {
        "colab": {
          "base_uri": "https://localhost:8080/"
        },
        "id": "g-qlBBkb8jEx",
        "outputId": "992521f0-49a5-450b-f1c6-2234cf1e6da2"
      },
      "source": [
        "data['PG'].value_counts()"
      ],
      "execution_count": null,
      "outputs": [
        {
          "output_type": "execute_result",
          "data": {
            "text/plain": [
              "0    36\n",
              "1    30\n",
              "Name: PG, dtype: int64"
            ]
          },
          "metadata": {},
          "execution_count": 114
        }
      ]
    },
    {
      "cell_type": "code",
      "metadata": {
        "colab": {
          "base_uri": "https://localhost:8080/"
        },
        "id": "W-OMhDovTSet",
        "outputId": "d1d06acd-eb08-4e89-a63c-4f01dd40f32a"
      },
      "source": [
        "print(X.shape)"
      ],
      "execution_count": null,
      "outputs": [
        {
          "output_type": "stream",
          "name": "stdout",
          "text": [
            "(66, 13)\n"
          ]
        }
      ]
    },
    {
      "cell_type": "code",
      "metadata": {
        "colab": {
          "base_uri": "https://localhost:8080/"
        },
        "id": "FMAdd6cfTaCo",
        "outputId": "a96b5eb7-9176-45a4-9981-10eef35320ae"
      },
      "source": [
        "print(y.head())"
      ],
      "execution_count": null,
      "outputs": [
        {
          "output_type": "stream",
          "name": "stdout",
          "text": [
            "0    0\n",
            "1    1\n",
            "2    1\n",
            "3    1\n",
            "4    0\n",
            "Name: PG, dtype: int64\n"
          ]
        }
      ]
    },
    {
      "cell_type": "code",
      "metadata": {
        "colab": {
          "base_uri": "https://localhost:8080/"
        },
        "id": "lmMAg0JjTbss",
        "outputId": "e5e41ffa-1e24-4bf1-afa1-0c726c68e1dc"
      },
      "source": [
        "print(X)"
      ],
      "execution_count": null,
      "outputs": [
        {
          "output_type": "stream",
          "name": "stdout",
          "text": [
            "    ID  JobFamily  ...  ContactLevel  FinancialBudget\n",
            "0    1          1  ...             3                5\n",
            "1    2          1  ...             7                7\n",
            "2    3          1  ...             7               10\n",
            "3    4          1  ...             8               11\n",
            "4    5          2  ...             1                1\n",
            "..  ..        ...  ...           ...              ...\n",
            "61  62         15  ...             1                1\n",
            "62  63         15  ...             3                4\n",
            "63  64         15  ...             7                5\n",
            "64  65         15  ...             7                7\n",
            "65  66         15  ...             8               11\n",
            "\n",
            "[66 rows x 13 columns]\n"
          ]
        }
      ]
    },
    {
      "cell_type": "markdown",
      "metadata": {
        "id": "8izLNJhYvi8x"
      },
      "source": [
        "**HOLDOUT VALIDATION APPROACH - TRAIN AND TEST SPLIT**"
      ]
    },
    {
      "cell_type": "code",
      "metadata": {
        "colab": {
          "base_uri": "https://localhost:8080/"
        },
        "id": "88SZSoAfTdlX",
        "outputId": "894cc884-8480-4d47-eb3a-3b5b55687b9b"
      },
      "source": [
        "# splitting X and y into training and testing sets\n",
        "from sklearn.model_selection import train_test_split\n",
        "X_train, X_test, y_train, y_test = train_test_split(X, y, test_size=0.2, random_state=1)\n",
        "  \n",
        "# printing the shapes of the new X objects\n",
        "print(\"X_train shape: \",X_train.shape)\n",
        "print(\"X_test shape: \",X_test.shape)\n",
        "  \n",
        "# printing the shapes of the new y objects\n",
        "print(\"y_train shape: \",y_train.shape)\n",
        "print(\"y_test shape: \",y_test.shape)"
      ],
      "execution_count": null,
      "outputs": [
        {
          "output_type": "stream",
          "name": "stdout",
          "text": [
            "X_train shape:  (52, 13)\n",
            "X_test shape:  (14, 13)\n",
            "y_train shape:  (52,)\n",
            "y_test shape:  (14,)\n"
          ]
        }
      ]
    },
    {
      "cell_type": "markdown",
      "metadata": {
        "id": "MlOPDMdNvoPZ"
      },
      "source": [
        "**Normalizing the data**"
      ]
    },
    {
      "cell_type": "code",
      "metadata": {
        "id": "E3Jhx8qETg2W"
      },
      "source": [
        "from sklearn.preprocessing import StandardScaler\n",
        "sc= StandardScaler()\n",
        "\n",
        "X_train = sc.fit_transform(X_train)\n",
        "X_test = sc.fit_transform(X_test)"
      ],
      "execution_count": null,
      "outputs": []
    },
    {
      "cell_type": "code",
      "metadata": {
        "id": "ZFashCHVUPmc"
      },
      "source": [
        "from sklearn.tree import DecisionTreeClassifier\n",
        "from sklearn.metrics import confusion_matrix\n",
        "from sklearn.tree import DecisionTreeClassifier\n",
        "from sklearn.metrics import accuracy_score\n",
        "from sklearn.metrics import classification_report"
      ],
      "execution_count": null,
      "outputs": []
    },
    {
      "cell_type": "markdown",
      "metadata": {
        "id": "rhn4YDNyTpqP"
      },
      "source": [
        "**DECISION TREE-INFO GAIN**"
      ]
    },
    {
      "cell_type": "code",
      "metadata": {
        "id": "RqmgTcvzTtRE"
      },
      "source": [
        "import matplotlib.pyplot as plt\n",
        "import itertools\n",
        "def plot_confusion_matrix(cm, classes, normalize=True, title='Confusion matrix', cmap=plt.cm.Blues):\n",
        "\n",
        "    plt.imshow(cm, interpolation='nearest', cmap=cmap)\n",
        "    plt.title(title)\n",
        "    plt.colorbar()\n",
        "    tick_marks = np.arange(len(classes))\n",
        "    plt.xticks(tick_marks, classes, rotation=45)\n",
        "    plt.yticks(tick_marks, classes)\n",
        "\n",
        "    if normalize:\n",
        "        cm = cm.astype('float') / cm.sum(axis=1)[:, np.newaxis]\n",
        "\n",
        "    thresh = cm.max() / 2.\n",
        "    for i, j in itertools.product(range(cm.shape[0]), range(cm.shape[1])):\n",
        "        plt.text(j, i, cm[i, j],\n",
        "                 horizontalalignment=\"center\",\n",
        "                 color=\"white\" if cm[i, j] > thresh else \"black\")\n",
        "\n",
        "    plt.tight_layout()\n",
        "    plt.ylabel('True label')\n",
        "    plt.xlabel('Predicted label')"
      ],
      "execution_count": null,
      "outputs": []
    },
    {
      "cell_type": "code",
      "metadata": {
        "id": "DlRDYocpTxTw"
      },
      "source": [
        "def cal_accuracy(y_test, y_pred):\n",
        "      \n",
        "    print(\"Confusion Matrix:\",confusion_matrix(y_test, y_pred))\n",
        "    plot_confusion_matrix(confusion_matrix(y_test,y_pred), classes=range(2), normalize=False)\n",
        "      \n",
        "    print (\"Accuracy:\",accuracy_score(y_test,y_pred))\n",
        "    dt_acc1=accuracy_score(y_test,y_pred)*100\n",
        "    \n",
        "    print(\"Report:\\n \",classification_report(y_test, y_pred))"
      ],
      "execution_count": null,
      "outputs": []
    },
    {
      "cell_type": "code",
      "metadata": {
        "colab": {
          "base_uri": "https://localhost:8080/",
          "height": 580
        },
        "id": "EOV0cn3rT6g8",
        "outputId": "25deb996-376d-42e9-91a6-933e4c41b6d3"
      },
      "source": [
        "clf_entropy = DecisionTreeClassifier(criterion = \"entropy\", random_state = 100,max_depth = 3,min_samples_leaf = 5)\n",
        "clf_entropy.fit(X_train, y_train)\n",
        "print(\"Results Using Entropy:\")\n",
        "y_pred_entropy = clf_entropy.predict(X_test)\n",
        "print(\"Predicted values:\")\n",
        "print(y_pred_entropy)\n",
        "cal_accuracy(y_test, y_pred_entropy)\n",
        "#dt_acc=100"
      ],
      "execution_count": null,
      "outputs": [
        {
          "output_type": "stream",
          "name": "stdout",
          "text": [
            "Results Using Entropy:\n",
            "Predicted values:\n",
            "[1 0 0 1 0 1 1 0 1 0 1 1 1 0]\n",
            "Confusion Matrix: [[6 0]\n",
            " [0 8]]\n",
            "Accuracy: 1.0\n",
            "Report:\n",
            "                precision    recall  f1-score   support\n",
            "\n",
            "           0       1.00      1.00      1.00         6\n",
            "           1       1.00      1.00      1.00         8\n",
            "\n",
            "    accuracy                           1.00        14\n",
            "   macro avg       1.00      1.00      1.00        14\n",
            "weighted avg       1.00      1.00      1.00        14\n",
            "\n"
          ]
        },
        {
          "output_type": "display_data",
          "data": {
            "image/png": "[encoded data removed]",
            "text/plain": [
              "<Figure size 432x288 with 2 Axes>"
            ]
          },
          "metadata": {
            "needs_background": "light"
          }
        }
      ]
    },
    {
      "cell_type": "markdown",
      "metadata": {
        "id": "axbGHxaaUWJJ"
      },
      "source": [
        "**VISUALIZING DECISION TREE**"
      ]
    },
    {
      "cell_type": "code",
      "metadata": {
        "colab": {
          "base_uri": "https://localhost:8080/",
          "height": 594
        },
        "id": "VhiR_3HuUeef",
        "outputId": "ee382e40-b2a1-49a7-f901-647e7f45cf57"
      },
      "source": [
        "from sklearn.externals.six import StringIO  \n",
        "from IPython.display import Image  \n",
        "from sklearn.tree import export_graphviz\n",
        "import pydotplus\n",
        "dot_data = StringIO()\n",
        "export_graphviz(clf_entropy, out_file=dot_data,filled=True, rounded=True,special_characters=True, feature_names =X.columns,class_names=['0','1'])\n",
        "graph = pydotplus.graph_from_dot_data(dot_data.getvalue())  \n",
        "graph.write_png('jobclassify_infogain.png')\n",
        "Image(graph.create_png())"
      ],
      "execution_count": null,
      "outputs": [
        {
          "output_type": "execute_result",
          "data": {
            "image/png": "[encoded data removed]",
            "text/plain": [
              "<IPython.core.display.Image object>"
            ]
          },
          "metadata": {},
          "execution_count": 79
        }
      ]
    },
    {
      "cell_type": "markdown",
      "metadata": {
        "id": "d_r8A8qTVWRg"
      },
      "source": [
        "**DECISION TREE -GINI INDEX**"
      ]
    },
    {
      "cell_type": "code",
      "metadata": {
        "colab": {
          "base_uri": "https://localhost:8080/",
          "height": 580
        },
        "id": "1kOcxPNhVkJn",
        "outputId": "3c1e28e4-9f4b-40ab-8f94-75e9ea389ef1"
      },
      "source": [
        "clf_gini = DecisionTreeClassifier(criterion = \"gini\",random_state = 100,max_depth=3, min_samples_leaf=5)\n",
        "clf_gini.fit(X_train, y_train)\n",
        "print(\"Results Using Gini Index:\")\n",
        "y_pred_gini = clf_gini.predict(X_test)\n",
        "print(\"Predicted values:\")\n",
        "print(y_pred_gini)\n",
        "cal_accuracy(y_test, y_pred_gini)\n"
      ],
      "execution_count": null,
      "outputs": [
        {
          "output_type": "stream",
          "name": "stdout",
          "text": [
            "Results Using Gini Index:\n",
            "Predicted values:\n",
            "[1 0 0 1 0 1 1 0 1 0 1 1 1 0]\n",
            "Confusion Matrix: [[6 0]\n",
            " [0 8]]\n",
            "Accuracy: 1.0\n",
            "Report:\n",
            "                precision    recall  f1-score   support\n",
            "\n",
            "           0       1.00      1.00      1.00         6\n",
            "           1       1.00      1.00      1.00         8\n",
            "\n",
            "    accuracy                           1.00        14\n",
            "   macro avg       1.00      1.00      1.00        14\n",
            "weighted avg       1.00      1.00      1.00        14\n",
            "\n"
          ]
        },
        {
          "output_type": "display_data",
          "data": {
            "image/png": "[encoded data removed]",
            "text/plain": [
              "<Figure size 432x288 with 2 Axes>"
            ]
          },
          "metadata": {
            "needs_background": "light"
          }
        }
      ]
    },
    {
      "cell_type": "markdown",
      "metadata": {
        "id": "W1pb5RrtVpDE"
      },
      "source": [
        "**VISUALISING DECISION TREE**"
      ]
    },
    {
      "cell_type": "code",
      "metadata": {
        "colab": {
          "base_uri": "https://localhost:8080/",
          "height": 594
        },
        "id": "BwpibDsqVrUy",
        "outputId": "b098a4fb-128f-4b63-e039-74127f7a978e"
      },
      "source": [
        "from sklearn.externals.six import StringIO  \n",
        "from IPython.display import Image  \n",
        "from sklearn.tree import export_graphviz\n",
        "import pydotplus\n",
        "dot_data = StringIO()\n",
        "export_graphviz(clf_gini, out_file=dot_data,filled=True, rounded=True,special_characters=True, feature_names =X.columns,class_names=['0','1'])\n",
        "graph = pydotplus.graph_from_dot_data(dot_data.getvalue())  \n",
        "graph.write_png('jonclssify_gini.png')\n",
        "Image(graph.create_png())"
      ],
      "execution_count": null,
      "outputs": [
        {
          "output_type": "execute_result",
          "data": {
            "image/png": "[encoded data removed]",
            "text/plain": [
              "<IPython.core.display.Image object>"
            ]
          },
          "metadata": {},
          "execution_count": 71
        }
      ]
    },
    {
      "cell_type": "markdown",
      "metadata": {
        "id": "_VgUYhesVz_1"
      },
      "source": [
        "**NAIVE BAYES**"
      ]
    },
    {
      "cell_type": "code",
      "metadata": {
        "colab": {
          "base_uri": "https://localhost:8080/",
          "height": 546
        },
        "id": "tfMH8oeAV2TT",
        "outputId": "9cb5eb4f-a20a-4699-958a-c1f234dc0cde"
      },
      "source": [
        " from sklearn.naive_bayes import GaussianNB\n",
        "NB1 = GaussianNB()  \n",
        "NB1.fit(X_train,y_train)\n",
        "y_predict1 = NB1.predict(X_test)  \n",
        "print('Classes: ', NB1.classes_)\n",
        "print('Class Priors: ',NB1.class_prior_)\n",
        "print(\"Accuracy :\", NB1.score(X_test,y_test))\n",
        "nb_Acc=NB1.score(X_test,y_test)\n",
        "print(\"Confusion Matrix:\",confusion_matrix(y_test, y_predict1))\n",
        "plot_confusion_matrix(confusion_matrix(y_test,y_predict1), classes=range(2), normalize=False)\n",
        "print(classification_report(y_test, y_predict1))"
      ],
      "execution_count": null,
      "outputs": [
        {
          "output_type": "stream",
          "name": "stdout",
          "text": [
            "Classes:  [0 1]\n",
            "Class Priors:  [0.57692308 0.42307692]\n",
            "Accuracy : 1.0\n",
            "Confusion Matrix: [[6 0]\n",
            " [0 8]]\n",
            "              precision    recall  f1-score   support\n",
            "\n",
            "           0       1.00      1.00      1.00         6\n",
            "           1       1.00      1.00      1.00         8\n",
            "\n",
            "    accuracy                           1.00        14\n",
            "   macro avg       1.00      1.00      1.00        14\n",
            "weighted avg       1.00      1.00      1.00        14\n",
            "\n"
          ]
        },
        {
          "output_type": "display_data",
          "data": {
            "image/png": "[encoded data removed]",
            "text/plain": [
              "<Figure size 432x288 with 2 Axes>"
            ]
          },
          "metadata": {
            "needs_background": "light"
          }
        }
      ]
    },
    {
      "cell_type": "markdown",
      "metadata": {
        "id": "-UWq6vUmWNdJ"
      },
      "source": [
        "***NAIVE BAYES ON CONTINUOUS ATTRIBUTES ***"
      ]
    },
    {
      "cell_type": "code",
      "metadata": {
        "colab": {
          "base_uri": "https://localhost:8080/",
          "height": 546
        },
        "id": "VD_I9LJ9WZFn",
        "outputId": "265d7ea8-5a2c-4ce8-8345-ef85586a2ceb"
      },
      "source": [
        "from sklearn.naive_bayes import GaussianNB\n",
        "X_GNB = data[['JobFamily','Experience']]\n",
        "y_GNB =data['PG'].values\n",
        "X_tr, X_tes, y_tr, y_tes = train_test_split(X_GNB, y_GNB, test_size=0.2, random_state=1,stratify=y)\n",
        "NB = GaussianNB()  \n",
        "NB.fit(X_tr,y_tr)\n",
        "y_predict = NB.predict(X_tes)  \n",
        "\n",
        "print('Classes: ', NB.classes_)\n",
        "# prior probability of each class.\n",
        "print('Class Priors: ',NB.class_prior_)\n",
        "print(\"Confusion Matrix:\",confusion_matrix(y_tes, y_predict))\n",
        "plot_confusion_matrix(confusion_matrix(y_tes,y_predict), classes=range(2), normalize=False)\n",
        "print(\"Accuracy :\", NB.score(X_tes,y_tes))\n",
        "nb_acc2=NB.score(X_tes,y_tes)\n",
        "print(classification_report(y_tes, y_predict))"
      ],
      "execution_count": null,
      "outputs": [
        {
          "output_type": "stream",
          "name": "stdout",
          "text": [
            "Classes:  [0 1]\n",
            "Class Priors:  [0.53846154 0.46153846]\n",
            "Confusion Matrix: [[8 0]\n",
            " [3 3]]\n",
            "Accuracy : 0.7857142857142857\n",
            "              precision    recall  f1-score   support\n",
            "\n",
            "           0       0.73      1.00      0.84         8\n",
            "           1       1.00      0.50      0.67         6\n",
            "\n",
            "    accuracy                           0.79        14\n",
            "   macro avg       0.86      0.75      0.75        14\n",
            "weighted avg       0.84      0.79      0.77        14\n",
            "\n"
          ]
        },
        {
          "output_type": "display_data",
          "data": {
            "image/png": "[encoded data removed]",
            "text/plain": [
              "<Figure size 432x288 with 2 Axes>"
            ]
          },
          "metadata": {
            "needs_background": "light"
          }
        }
      ]
    },
    {
      "cell_type": "markdown",
      "metadata": {
        "id": "2mwByeOPWxEF"
      },
      "source": [
        "**SVM**"
      ]
    },
    {
      "cell_type": "markdown",
      "metadata": {
        "id": "5TwYz2_mWy_n"
      },
      "source": [
        "**LINEAR KERNEL**"
      ]
    },
    {
      "cell_type": "code",
      "metadata": {
        "colab": {
          "base_uri": "https://localhost:8080/",
          "height": 513
        },
        "id": "jItUsssYWyhc",
        "outputId": "0d5bfecf-d683-4ea4-eb2f-c44d9b9e686d"
      },
      "source": [
        "from sklearn import svm\n",
        "from sklearn import metrics\n",
        "clf = svm.SVC(kernel='linear')\n",
        "clf.fit(X_train, y_train)\n",
        "y_pred_SVM = clf.predict(X_test)\n",
        "print(\"Confusion Matrix:\",confusion_matrix(y_test, y_pred_SVM))\n",
        "plot_confusion_matrix(confusion_matrix(y_test,y_pred_SVM), classes=range(2), normalize=False)\n",
        "print(\"Accuracy:\",metrics.accuracy_score(y_test, y_pred_SVM))\n",
        "lk_acc=metrics.accuracy_score(y_test, y_pred_SVM)\n",
        "print(classification_report(y_test, y_pred_SVM))"
      ],
      "execution_count": null,
      "outputs": [
        {
          "output_type": "stream",
          "name": "stdout",
          "text": [
            "Confusion Matrix: [[6 0]\n",
            " [0 8]]\n",
            "Accuracy: 1.0\n",
            "              precision    recall  f1-score   support\n",
            "\n",
            "           0       1.00      1.00      1.00         6\n",
            "           1       1.00      1.00      1.00         8\n",
            "\n",
            "    accuracy                           1.00        14\n",
            "   macro avg       1.00      1.00      1.00        14\n",
            "weighted avg       1.00      1.00      1.00        14\n",
            "\n"
          ]
        },
        {
          "output_type": "display_data",
          "data": {
            "image/png": "[encoded data removed]",
            "text/plain": [
              "<Figure size 432x288 with 2 Axes>"
            ]
          },
          "metadata": {
            "needs_background": "light"
          }
        }
      ]
    },
    {
      "cell_type": "markdown",
      "metadata": {
        "id": "6llsfa83W7Zc"
      },
      "source": [
        "**POLYNOMIAL KERNEL**"
      ]
    },
    {
      "cell_type": "code",
      "metadata": {
        "colab": {
          "base_uri": "https://localhost:8080/",
          "height": 513
        },
        "id": "tPcbWnElW9dY",
        "outputId": "a173bbfe-4457-4127-a09c-19db2a6f4c14"
      },
      "source": [
        "from sklearn import svm\n",
        "from sklearn import metrics\n",
        "clf1 = svm.SVC(kernel='poly')\n",
        "clf1.fit(X_train, y_train)\n",
        "y_pred_SVM1 = clf1.predict(X_test)\n",
        "print(\"Confusion Matrix:\",confusion_matrix(y_test, y_pred_SVM1))\n",
        "plot_confusion_matrix(confusion_matrix(y_test,y_pred_SVM1), classes=range(2), normalize=False)\n",
        "print(\"Accuracy:\",metrics.accuracy_score(y_test, y_pred_SVM1))\n",
        "pk_acc=metrics.accuracy_score(y_test, y_pred_SVM1)\n",
        "print(classification_report(y_test, y_pred_SVM1))"
      ],
      "execution_count": null,
      "outputs": [
        {
          "output_type": "stream",
          "name": "stdout",
          "text": [
            "Confusion Matrix: [[6 0]\n",
            " [5 3]]\n",
            "Accuracy: 0.6428571428571429\n",
            "              precision    recall  f1-score   support\n",
            "\n",
            "           0       0.55      1.00      0.71         6\n",
            "           1       1.00      0.38      0.55         8\n",
            "\n",
            "    accuracy                           0.64        14\n",
            "   macro avg       0.77      0.69      0.63        14\n",
            "weighted avg       0.81      0.64      0.61        14\n",
            "\n"
          ]
        },
        {
          "output_type": "display_data",
          "data": {
            "image/png": "[encoded data removed]",
            "text/plain": [
              "<Figure size 432x288 with 2 Axes>"
            ]
          },
          "metadata": {
            "needs_background": "light"
          }
        }
      ]
    },
    {
      "cell_type": "markdown",
      "metadata": {
        "id": "XFbpsS8MXLlt"
      },
      "source": [
        "**RADIAL BIAS FUNCTION KERNEL**"
      ]
    },
    {
      "cell_type": "code",
      "metadata": {
        "colab": {
          "base_uri": "https://localhost:8080/",
          "height": 513
        },
        "id": "7_vTPXzRXQoR",
        "outputId": "34ef8ea1-39de-46d3-fa31-e1bbc046a165"
      },
      "source": [
        "from sklearn import svm\n",
        "from sklearn import metrics\n",
        "clf2 = svm.SVC(kernel='rbf')\n",
        "clf2.fit(X_train, y_train)\n",
        "y_pred_SVM2 = clf2.predict(X_test)\n",
        "print(\"Confusion Matrix:\",confusion_matrix(y_test, y_pred_SVM2))\n",
        "plot_confusion_matrix(confusion_matrix(y_test,y_pred_SVM2), classes=range(2), normalize=False)\n",
        "print(\"Accuracy:\",metrics.accuracy_score(y_test, y_pred_SVM2))\n",
        "rb_acc=metrics.accuracy_score(y_test, y_pred_SVM2)\n",
        "print(classification_report(y_test, y_pred_SVM2))"
      ],
      "execution_count": null,
      "outputs": [
        {
          "output_type": "stream",
          "name": "stdout",
          "text": [
            "Confusion Matrix: [[6 0]\n",
            " [0 8]]\n",
            "Accuracy: 1.0\n",
            "              precision    recall  f1-score   support\n",
            "\n",
            "           0       1.00      1.00      1.00         6\n",
            "           1       1.00      1.00      1.00         8\n",
            "\n",
            "    accuracy                           1.00        14\n",
            "   macro avg       1.00      1.00      1.00        14\n",
            "weighted avg       1.00      1.00      1.00        14\n",
            "\n"
          ]
        },
        {
          "output_type": "display_data",
          "data": {
            "image/png": "[encoded data removed]",
            "text/plain": [
              "<Figure size 432x288 with 2 Axes>"
            ]
          },
          "metadata": {
            "needs_background": "light"
          }
        }
      ]
    },
    {
      "cell_type": "markdown",
      "metadata": {
        "id": "c2Pvvc05XVeR"
      },
      "source": [
        "**SIGMOID KERNEL**"
      ]
    },
    {
      "cell_type": "code",
      "metadata": {
        "colab": {
          "base_uri": "https://localhost:8080/",
          "height": 513
        },
        "id": "u2UQaMrHXXci",
        "outputId": "ec074d80-711a-4112-b2d7-dc7f940f9660"
      },
      "source": [
        "from sklearn import svm\n",
        "from sklearn import metrics\n",
        "clf3 = svm.SVC(kernel='sigmoid')\n",
        "clf3.fit(X_train, y_train)\n",
        "y_pred_SVM3 = clf3.predict(X_test)\n",
        "print(\"Confusion Matrix:\",confusion_matrix(y_test, y_pred_SVM3))\n",
        "plot_confusion_matrix(confusion_matrix(y_test,y_pred_SVM3), classes=range(2), normalize=False)\n",
        "print(\"Accuracy:\",metrics.accuracy_score(y_test, y_pred_SVM3))\n",
        "sk_acc=metrics.accuracy_score(y_test, y_pred_SVM3)\n",
        "print(classification_report(y_test, y_pred_SVM3))"
      ],
      "execution_count": null,
      "outputs": [
        {
          "output_type": "stream",
          "name": "stdout",
          "text": [
            "Confusion Matrix: [[6 0]\n",
            " [0 8]]\n",
            "Accuracy: 1.0\n",
            "              precision    recall  f1-score   support\n",
            "\n",
            "           0       1.00      1.00      1.00         6\n",
            "           1       1.00      1.00      1.00         8\n",
            "\n",
            "    accuracy                           1.00        14\n",
            "   macro avg       1.00      1.00      1.00        14\n",
            "weighted avg       1.00      1.00      1.00        14\n",
            "\n"
          ]
        },
        {
          "output_type": "display_data",
          "data": {
            "image/png": "[encoded data removed]",
            "text/plain": [
              "<Figure size 432x288 with 2 Axes>"
            ]
          },
          "metadata": {
            "needs_background": "light"
          }
        }
      ]
    },
    {
      "cell_type": "markdown",
      "metadata": {
        "id": "Von_dIRPXaJK"
      },
      "source": [
        "**LINEAR REGRESSOR**"
      ]
    },
    {
      "cell_type": "code",
      "metadata": {
        "colab": {
          "base_uri": "https://localhost:8080/",
          "height": 513
        },
        "id": "F8UjyupmXcow",
        "outputId": "26301d75-2000-473d-e383-e4ff4ac66245"
      },
      "source": [
        "from sklearn.linear_model import LinearRegression\n",
        "reg = LinearRegression()\n",
        "reg.fit(X_train, y_train)\n",
        "y_pred_reg = reg.predict(X_test)\n",
        "y_pred_reg = y_pred_reg.astype(int)\n",
        "\n",
        "print(\"Confusion Matrix:\",confusion_matrix(y_test, y_pred_reg))\n",
        "plot_confusion_matrix(confusion_matrix(y_test,y_pred_reg), classes=range(2), normalize=False)\n",
        "print(\"Accuracy:\",metrics.accuracy_score(y_test,y_pred_reg))\n",
        "lr_acc=metrics.accuracy_score(y_test,y_pred_reg)\n",
        "print(classification_report(y_test, y_pred_reg))"
      ],
      "execution_count": null,
      "outputs": [
        {
          "output_type": "stream",
          "name": "stdout",
          "text": [
            "Confusion Matrix: [[6 0]\n",
            " [7 1]]\n",
            "Accuracy: 0.5\n",
            "              precision    recall  f1-score   support\n",
            "\n",
            "           0       0.46      1.00      0.63         6\n",
            "           1       1.00      0.12      0.22         8\n",
            "\n",
            "    accuracy                           0.50        14\n",
            "   macro avg       0.73      0.56      0.43        14\n",
            "weighted avg       0.77      0.50      0.40        14\n",
            "\n"
          ]
        },
        {
          "output_type": "display_data",
          "data": {
            "image/png": "[encoded data removed]",
            "text/plain": [
              "<Figure size 432x288 with 2 Axes>"
            ]
          },
          "metadata": {
            "needs_background": "light"
          }
        }
      ]
    },
    {
      "cell_type": "markdown",
      "metadata": {
        "id": "G5Ih1L-GXmTn"
      },
      "source": [
        "**KNN**"
      ]
    },
    {
      "cell_type": "code",
      "metadata": {
        "colab": {
          "base_uri": "https://localhost:8080/",
          "height": 513
        },
        "id": "tayOfddbXn7x",
        "outputId": "fe70c73c-3959-4047-efbc-296c1a15e765"
      },
      "source": [
        "from sklearn.neighbors import KNeighborsClassifier\n",
        "knn = KNeighborsClassifier(n_neighbors=5)\n",
        "knn.fit(X_train, y_train)\n",
        "y_pred_knn = knn.predict(X_test)\n",
        "\n",
        "print(\"Confusion Matrix:\",confusion_matrix(y_test, y_pred_knn))\n",
        "plot_confusion_matrix(confusion_matrix(y_test,y_pred_knn), classes=range(2), normalize=False)\n",
        "print(\"Accuracy:\",knn.score(X_test, y_test))\n",
        "knn_acc=knn.score(X_test, y_test)\n",
        "print(classification_report(y_test, y_pred_knn))"
      ],
      "execution_count": null,
      "outputs": [
        {
          "output_type": "stream",
          "name": "stdout",
          "text": [
            "Confusion Matrix: [[6 0]\n",
            " [0 8]]\n",
            "Accuracy: 1.0\n",
            "              precision    recall  f1-score   support\n",
            "\n",
            "           0       1.00      1.00      1.00         6\n",
            "           1       1.00      1.00      1.00         8\n",
            "\n",
            "    accuracy                           1.00        14\n",
            "   macro avg       1.00      1.00      1.00        14\n",
            "weighted avg       1.00      1.00      1.00        14\n",
            "\n"
          ]
        },
        {
          "output_type": "display_data",
          "data": {
            "image/png": "[encoded data removed]",
            "text/plain": [
              "<Figure size 432x288 with 2 Axes>"
            ]
          },
          "metadata": {
            "needs_background": "light"
          }
        }
      ]
    },
    {
      "cell_type": "code",
      "metadata": {
        "colab": {
          "base_uri": "https://localhost:8080/",
          "height": 834
        },
        "id": "7ffhSCujXsq6",
        "outputId": "da7e4253-6a3d-40dc-dbc1-7a5f8299a506"
      },
      "source": [
        "import matplotlib.pyplot as plt\n",
        "neighbors = np.arange(1, 9)\n",
        "print(neighbors)\n",
        "train_accuracy = np.empty(len(neighbors))\n",
        "test_accuracy = np.empty(len(neighbors))\n",
        " \n",
        "# Loop over K values\n",
        "for i, k in enumerate(neighbors):\n",
        "    knn = KNeighborsClassifier(n_neighbors=k)\n",
        "    knn.fit(X_train, y_train)\n",
        "     \n",
        "    # Compute training and test data accuracy\n",
        "    print('------------------------')\n",
        "    print('neighbours is:',k)\n",
        "    train_accuracy[i] = knn.score(X_train, y_train)\n",
        "    print('train:',train_accuracy[i])\n",
        "    test_accuracy[i] = knn.score(X_test, y_test)\n",
        "    print('test',test_accuracy[i])\n",
        "\n",
        " \n",
        "# Generate plot\n",
        "plt.plot(neighbors, test_accuracy, label = 'Testing dataset Accuracy')\n",
        "plt.plot(neighbors, train_accuracy, label = 'Training dataset Accuracy')\n",
        " \n",
        "plt.legend()\n",
        "plt.xlabel('n_neighbors')\n",
        "plt.ylabel('Accuracy')\n",
        "plt.show()"
      ],
      "execution_count": null,
      "outputs": [
        {
          "output_type": "stream",
          "name": "stdout",
          "text": [
            "[1 2 3 4 5 6 7 8]\n",
            "------------------------\n",
            "neighbours is: 1\n",
            "train: 1.0\n",
            "test 1.0\n",
            "------------------------\n",
            "neighbours is: 2\n",
            "train: 0.9423076923076923\n",
            "test 0.8571428571428571\n",
            "------------------------\n",
            "neighbours is: 3\n",
            "train: 0.9038461538461539\n",
            "test 0.9285714285714286\n",
            "------------------------\n",
            "neighbours is: 4\n",
            "train: 0.9230769230769231\n",
            "test 0.9285714285714286\n",
            "------------------------\n",
            "neighbours is: 5\n",
            "train: 0.9038461538461539\n",
            "test 1.0\n",
            "------------------------\n",
            "neighbours is: 6\n",
            "train: 0.9230769230769231\n",
            "test 1.0\n",
            "------------------------\n",
            "neighbours is: 7\n",
            "train: 0.9423076923076923\n",
            "test 1.0\n",
            "------------------------\n",
            "neighbours is: 8\n",
            "train: 0.9615384615384616\n",
            "test 1.0\n"
          ]
        },
        {
          "output_type": "display_data",
          "data": {
            "image/png": "[encoded data removed]",
            "text/plain": [
              "<Figure size 432x288 with 1 Axes>"
            ]
          },
          "metadata": {
            "needs_background": "light"
          }
        }
      ]
    },
    {
      "cell_type": "markdown",
      "metadata": {
        "id": "2k80o5xeXvEn"
      },
      "source": [
        "**LOGISTIC REGRESSION**"
      ]
    },
    {
      "cell_type": "code",
      "metadata": {
        "colab": {
          "base_uri": "https://localhost:8080/",
          "height": 513
        },
        "id": "DFJjFrOsXxxT",
        "outputId": "9a53482d-9526-46f6-e53f-a82316e4857d"
      },
      "source": [
        "from sklearn.linear_model import LogisticRegression\n",
        "clf_lr = LogisticRegression(random_state=0)\n",
        "clf_lr.fit(X_train, y_train)\n",
        "y_pred_lr = knn.predict(X_test)\n",
        "\n",
        "print(\"Confusion Matrix:\",confusion_matrix(y_test, y_pred_lr))\n",
        "plot_confusion_matrix(confusion_matrix(y_test,y_pred_lr), classes=range(2), normalize=False)\n",
        "print(\"Accuracy:\",clf_lr.score(X_test, y_test))\n",
        "lrr_acc=clf_lr.score(X_test, y_test)\n",
        "print(classification_report(y_test, y_pred_lr))"
      ],
      "execution_count": null,
      "outputs": [
        {
          "output_type": "stream",
          "name": "stdout",
          "text": [
            "Confusion Matrix: [[6 0]\n",
            " [0 8]]\n",
            "Accuracy: 1.0\n",
            "              precision    recall  f1-score   support\n",
            "\n",
            "           0       1.00      1.00      1.00         6\n",
            "           1       1.00      1.00      1.00         8\n",
            "\n",
            "    accuracy                           1.00        14\n",
            "   macro avg       1.00      1.00      1.00        14\n",
            "weighted avg       1.00      1.00      1.00        14\n",
            "\n"
          ]
        },
        {
          "output_type": "display_data",
          "data": {
            "image/png": "[encoded data removed]",
            "text/plain": [
              "<Figure size 432x288 with 2 Axes>"
            ]
          },
          "metadata": {
            "needs_background": "light"
          }
        }
      ]
    },
    {
      "cell_type": "code",
      "metadata": {
        "cellView": "form",
        "id": "xPPTICJjmzoa"
      },
      "source": [
        "#@title Accuracy\n",
        "dt_acc1=1.0\n"
      ],
      "execution_count": null,
      "outputs": []
    },
    {
      "cell_type": "code",
      "metadata": {
        "colab": {
          "base_uri": "https://localhost:8080/",
          "height": 650
        },
        "id": "55M93Cgiizai",
        "outputId": "cb395438-5f4b-485e-e68e-55dfa666117f"
      },
      "source": [
        "#Overall Classification of the models\n",
        "import seaborn as sns\n",
        "models = pd.DataFrame({\n",
        "    'Model':['Decision_tree_Infogain', 'Decision_Tree_Giniindex', 'Naive bayes', 'Naive bayes_con', 'svm_Linear kernel', 'svm_polynomial kernel','svm_radial bias kernel','svm_sigmoid kernel','Linear regression','KNN','Logistic regression'],\n",
        "    'Accuracy_score' :[dt_acc1,dt_acc1,nb_Acc,nb_acc2,sk_acc,pk_acc,rb_acc,sk_acc,lr_acc,knn_acc,lrr_acc]\n",
        "})\n",
        "models\n",
        "sns.barplot(x='Accuracy_score', y='Model', data=models)\n",
        "\n",
        "models.sort_values(by='Accuracy_score', ascending=False)"
      ],
      "execution_count": null,
      "outputs": [
        {
          "output_type": "execute_result",
          "data": {
            "text/html": [
              "<div>\n",
              "<style scoped>\n",
              "    .dataframe tbody tr th:only-of-type {\n",
              "        vertical-align: middle;\n",
              "    }\n",
              "\n",
              "    .dataframe tbody tr th {\n",
              "        vertical-align: top;\n",
              "    }\n",
              "\n",
              "    .dataframe thead th {\n",
              "        text-align: right;\n",
              "    }\n",
              "</style>\n",
              "<table border=\"1\" class=\"dataframe\">\n",
              "  <thead>\n",
              "    <tr style=\"text-align: right;\">\n",
              "      <th></th>\n",
              "      <th>Model</th>\n",
              "      <th>Accuracy_score</th>\n",
              "    </tr>\n",
              "  </thead>\n",
              "  <tbody>\n",
              "    <tr>\n",
              "      <th>0</th>\n",
              "      <td>Decision_tree_Infogain</td>\n",
              "      <td>1.000000</td>\n",
              "    </tr>\n",
              "    <tr>\n",
              "      <th>1</th>\n",
              "      <td>Decision_Tree_Giniindex</td>\n",
              "      <td>1.000000</td>\n",
              "    </tr>\n",
              "    <tr>\n",
              "      <th>2</th>\n",
              "      <td>Naive bayes</td>\n",
              "      <td>1.000000</td>\n",
              "    </tr>\n",
              "    <tr>\n",
              "      <th>4</th>\n",
              "      <td>svm_Linear kernel</td>\n",
              "      <td>1.000000</td>\n",
              "    </tr>\n",
              "    <tr>\n",
              "      <th>6</th>\n",
              "      <td>svm_radial bias kernel</td>\n",
              "      <td>1.000000</td>\n",
              "    </tr>\n",
              "    <tr>\n",
              "      <th>7</th>\n",
              "      <td>svm_sigmoid kernel</td>\n",
              "      <td>1.000000</td>\n",
              "    </tr>\n",
              "    <tr>\n",
              "      <th>9</th>\n",
              "      <td>KNN</td>\n",
              "      <td>1.000000</td>\n",
              "    </tr>\n",
              "    <tr>\n",
              "      <th>10</th>\n",
              "      <td>Logistic regression</td>\n",
              "      <td>1.000000</td>\n",
              "    </tr>\n",
              "    <tr>\n",
              "      <th>3</th>\n",
              "      <td>Naive bayes_con</td>\n",
              "      <td>0.785714</td>\n",
              "    </tr>\n",
              "    <tr>\n",
              "      <th>5</th>\n",
              "      <td>svm_polynomial kernel</td>\n",
              "      <td>0.642857</td>\n",
              "    </tr>\n",
              "    <tr>\n",
              "      <th>8</th>\n",
              "      <td>Linear regression</td>\n",
              "      <td>0.500000</td>\n",
              "    </tr>\n",
              "  </tbody>\n",
              "</table>\n",
              "</div>"
            ],
            "text/plain": [
              "                      Model  Accuracy_score\n",
              "0    Decision_tree_Infogain        1.000000\n",
              "1   Decision_Tree_Giniindex        1.000000\n",
              "2               Naive bayes        1.000000\n",
              "4         svm_Linear kernel        1.000000\n",
              "6    svm_radial bias kernel        1.000000\n",
              "7        svm_sigmoid kernel        1.000000\n",
              "9                       KNN        1.000000\n",
              "10      Logistic regression        1.000000\n",
              "3           Naive bayes_con        0.785714\n",
              "5     svm_polynomial kernel        0.642857\n",
              "8         Linear regression        0.500000"
            ]
          },
          "metadata": {},
          "execution_count": 96
        },
        {
          "output_type": "display_data",
          "data": {
            "image/png": "[encoded data removed]",
            "text/plain": [
              "<Figure size 432x288 with 1 Axes>"
            ]
          },
          "metadata": {
            "needs_background": "light"
          }
        }
      ]
    }
  ]
}